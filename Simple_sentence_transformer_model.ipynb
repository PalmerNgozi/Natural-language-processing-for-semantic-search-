{
  "nbformat": 4,
  "nbformat_minor": 0,
  "metadata": {
    "colab": {
      "name": "Simple sentence transformer model.ipynb",
      "provenance": [],
      "private_outputs": true,
      "collapsed_sections": [],
      "authorship_tag": "ABX9TyMHp4l++CwRgs/ipgBj3bVM"
    },
    "kernelspec": {
      "name": "python3",
      "display_name": "Python 3"
    },
    "language_info": {
      "name": "python"
    }
  },
  "cells": [
    {
      "cell_type": "code",
      "execution_count": null,
      "metadata": {
        "id": "7vlQco98FTeR"
      },
      "outputs": [],
      "source": [
        "#This is the requirement for running this example. if you already have this module feel free to skip this line of code\n",
        "\n",
        "!pip install sentence-transformers"
      ]
    },
    {
      "cell_type": "code",
      "source": [
        "from sentence_transformers import SentenceTransformer as st"
      ],
      "metadata": {
        "id": "oehQmz-FFYFg"
      },
      "execution_count": null,
      "outputs": []
    },
    {
      "cell_type": "code",
      "source": [
        "model = st('all-mpnet-base-v2')"
      ],
      "metadata": {
        "id": "UG22xMWQPJRf"
      },
      "execution_count": null,
      "outputs": []
    },
    {
      "cell_type": "code",
      "source": [
        "#these are randomly generated sentences. It is constructed such that some are similar to each other and some are not i.e sharing very few matching words. Feel free to write more sentences\n",
        "\n",
        "sentences = [\n",
        "             \"we are starting school tommorrow\",\n",
        "             \"Today is a bank holiday at leeds, united kingdom\",\n",
        "             \"The church crossover service was a sglorious as ever, thank you Jesus\",\n",
        "             \"This is the third day of the first month of the New year\",\n",
        "             \"NO marriage no children and no responsibilities\",\n",
        "             \"Children are gifts from God\",\n",
        "             \"i will never get married\"\n",
        "]"
      ],
      "metadata": {
        "id": "eKhIoCsRPeTC"
      },
      "execution_count": null,
      "outputs": []
    },
    {
      "cell_type": "code",
      "source": [
        "#This is the encoding. i want to encode the sentences i created in the previous block and this is done using the .encode() method\n",
        "\n",
        "embeddings = model.encode(sentences)\n",
        "embeddings.shape"
      ],
      "metadata": {
        "id": "Abu9MfELQMkg"
      },
      "execution_count": null,
      "outputs": []
    },
    {
      "cell_type": "code",
      "source": [
        "#Here i want to check the similairy or relationship between the sentences. There are various methods of doing this but i am using the cos_sim, \n",
        "#checking the performance of these embeddings when compared using a similarity metric such as cosine similarity is just excellent. Feel free to explore other options.\n",
        "\n",
        "from sentence_transformers.util import cos_sim as cs"
      ],
      "metadata": {
        "id": "Q-uJAXmiQY3t"
      },
      "execution_count": null,
      "outputs": []
    },
    {
      "cell_type": "code",
      "source": [
        "#Here i want to compare the sentences against one sentence. I chose the last sentence and i want to see what is the sentence that is very similar in meaning to the lats sentence\n",
        "\n",
        "scores = cs(embeddings[-1], embeddings[:-1])\n",
        "scores"
      ],
      "metadata": {
        "id": "437kpxWUQjaX"
      },
      "execution_count": null,
      "outputs": []
    },
    {
      "cell_type": "code",
      "source": [
        "#this just prints out the sentence with the highest similarity values as run in the last block of code\n",
        "\n",
        "sentences[scores.argmax().item()]"
      ],
      "metadata": {
        "id": "_rQhltq8Q6Yy"
      },
      "execution_count": null,
      "outputs": []
    },
    {
      "cell_type": "code",
      "source": [
        "  "
      ],
      "metadata": {
        "id": "5mb4XnJgRP6e"
      },
      "execution_count": null,
      "outputs": []
    }
  ]
}